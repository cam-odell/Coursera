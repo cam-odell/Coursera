{
 "cells": [
  {
   "cell_type": "markdown",
   "metadata": {},
   "source": [
    "<center>\n",
    "    <img src=\"https://cf-courses-data.s3.us.cloud-object-storage.appdomain.cloud/IBMDeveloperSkillsNetwork-DS0105EN-SkillsNetwork/labs/Module2/images/SN_web_lightmode.png\" width=\"300\" alt=\"cognitiveclass.ai logo\">\n",
    "</center>\n"
   ]
  },
  {
   "cell_type": "markdown",
   "metadata": {},
   "source": [
    "#### Add your code below following the instructions given in the course\n"
   ]
  },
  {
   "cell_type": "markdown",
   "metadata": {},
   "source": [
    "(TITLE)Peer-graded Assignment: Submit Your Work and Grade Your Peers"
   ]
  },
  {
   "cell_type": "markdown",
   "metadata": {},
   "source": [
    "Introduction"
   ]
  },
  {
   "cell_type": "markdown",
   "metadata": {},
   "source": [
    "Some Data Science related languages: Python, SQL, R, C++, C"
   ]
  },
  {
   "cell_type": "markdown",
   "metadata": {},
   "source": [
    "Some Data Science related libraries (in Python): Pandas, Numpy, Matplotlib, Seaborn, Tensorflow, Keras, Scikit Learn, BeautifulSoup, Selenium"
   ]
  },
  {
   "cell_type": "markdown",
   "metadata": {},
   "source": [
    "Some Data Science related tools: Apache Spark, Hadoop, Kafka, Dask, Sagemaker, BigQuery, various databases"
   ]
  },
  {
   "cell_type": "markdown",
   "metadata": {},
   "source": [
    "Examples of arithmetic expressions:\n",
    "<br>\n",
    "Addition: a = 1+2\n",
    "<br>\n",
    "Subtraction b = 2-1\n",
    "<br>\n",
    "Multiplication c = 1*2\n",
    "<br>\n",
    "Division (Integer) d = 10//2\n",
    "<br>\n",
    "Division (Float) e = 10/2\n",
    "<br>\n",
    "Modulus f = 10 % 2"
   ]
  },
  {
   "cell_type": "code",
   "execution_count": 2,
   "metadata": {},
   "outputs": [
    {
     "name": "stdout",
     "output_type": "stream",
     "text": [
      "5\n",
      "6\n"
     ]
    }
   ],
   "source": [
    "a = 2\n",
    "b = 3\n",
    "c = a+b\n",
    "d = a*b\n",
    "print(c)\n",
    "print(d)"
   ]
  },
  {
   "cell_type": "code",
   "execution_count": 8,
   "metadata": {},
   "outputs": [
    {
     "name": "stdout",
     "output_type": "stream",
     "text": [
      "12 minutes is 0.2 hours\n"
     ]
    }
   ],
   "source": [
    "num_minutes = 12\n",
    "hours = num_minutes/60\n",
    "print(f\"{num_minutes} minutes is {hours} hours\")"
   ]
  },
  {
   "cell_type": "markdown",
   "metadata": {},
   "source": [
    "Objectives:\n",
    "<br>\n",
    "There are a total of 25 points possible for this final project.\n",
    "<br>\n",
    "Your grade will be based on the following Exercises:\n",
    "<br>\n",
    "Exercise 2 - Create a markdown cell with the title of the notebook. (1 pt)\n",
    "<br>\n",
    "Exercise 3 - Create a markdown cell for an introduction. (1 pt)\n",
    "<br>\n",
    "Exercise 4 - Create a markdown cell to list data science languages. (3 pts)\n",
    "<br>\n",
    "Exercise 5 - Create a markdown cell to list data science libraries. (3 pts)\n",
    "<br>\n",
    "Exercise 6 - Create a markdown cell with a table of Data Science tools. (3 pts)\n",
    "<br>\n",
    "Exercise 7 - Create a markdown cell introducing arithmetic expression examples. (1 pt)\n",
    "<br>\n",
    "Exercise 8 - Create a code cell to multiply and add numbers. (2 pts)\n",
    "<br>\n",
    "Exercise 9 - Create a code cell to convert minutes to hours. (2 pts)\n",
    "<br>\n",
    "Exercise 10 -Insert a markdown cell to list Objectives. (3 pts)\n",
    "<br>\n",
    "Exercise 11 - Create a markdown cell to indicate the Author’s name. (2 pts)\n",
    "<br>\n",
    "Exercise 12 - Share your notebook through GitHub (3 pts)\n",
    "<br>\n",
    "Exercise 13 - Take a screenshot of the first page of the notebook. (1 pt)\n",
    "<br>\n",
    "The main grading criteria will be:\n",
    "<br>\n",
    "Is the notebook publicly viewable?\n",
    "<br>\n",
    "Are there, or do there appear to be, at least 8 Markdown cells and 2 code cells? \n",
    "<br>\n",
    "Are the criteria for each cell fulfilled, as described in the \"Guidelines for Submission\"?\n",
    "<br>\n",
    "You will not be judged on:\n",
    "<br>\n",
    "Your English language, including spelling or grammatical mistakes."
   ]
  },
  {
   "cell_type": "markdown",
   "metadata": {},
   "source": [
    "Author: Cameron O'Dell"
   ]
  }
 ],
 "metadata": {
  "kernelspec": {
   "display_name": "Python 3 (ipykernel)",
   "language": "python",
   "name": "python3"
  },
  "language_info": {
   "codemirror_mode": {
    "name": "ipython",
    "version": 3
   },
   "file_extension": ".py",
   "mimetype": "text/x-python",
   "name": "python",
   "nbconvert_exporter": "python",
   "pygments_lexer": "ipython3",
   "version": "3.12.8"
  }
 },
 "nbformat": 4,
 "nbformat_minor": 4
}
